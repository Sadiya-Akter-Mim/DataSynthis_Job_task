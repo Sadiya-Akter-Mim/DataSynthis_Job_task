{
  "nbformat": 4,
  "nbformat_minor": 0,
  "metadata": {
    "colab": {
      "provenance": [],
      "authorship_tag": "ABX9TyOA7WLheTPEGlc5zOYGInFQ",
      "include_colab_link": true
    },
    "kernelspec": {
      "name": "python3",
      "display_name": "Python 3"
    },
    "language_info": {
      "name": "python"
    }
  },
  "cells": [
    {
      "cell_type": "markdown",
      "metadata": {
        "id": "view-in-github",
        "colab_type": "text"
      },
      "source": [
        "<a href=\"https://colab.research.google.com/github/Sadiya-Akter-Mim/MovieLens-Recommender-Assignment/blob/main/DataSynthesis_Assignment.ipynb\" target=\"_parent\"><img src=\"https://colab.research.google.com/assets/colab-badge.svg\" alt=\"Open In Colab\"/></a>"
      ]
    },
    {
      "cell_type": "code",
      "execution_count": 1,
      "metadata": {
        "id": "m4c35KziQClx"
      },
      "outputs": [],
      "source": [
        "import pandas as pd\n",
        "import numpy as np\n"
      ]
    },
    {
      "cell_type": "code",
      "source": [
        "#github raw link\n",
        "\n",
        "movies_url  = \"https://raw.githubusercontent.com/Sadiya-Akter-Mim/MovieLens-Recommender-Assignment/main/movies.csv\"\n",
        "ratings_url = \"https://raw.githubusercontent.com/Sadiya-Akter-Mim/MovieLens-Recommender-Assignment/main/ratings.csv\""
      ],
      "metadata": {
        "id": "MJZxY8AATLWO"
      },
      "execution_count": 5,
      "outputs": []
    },
    {
      "cell_type": "code",
      "source": [
        "#load dataset\n",
        "movies = pd.read_csv(movies_url)\n",
        "ratings = pd.read_csv(ratings_url)"
      ],
      "metadata": {
        "id": "8ADKQMRHYX9d"
      },
      "execution_count": 6,
      "outputs": []
    },
    {
      "cell_type": "code",
      "source": [
        "#show 5 rows\n",
        "print(\"Movies dataset:\")\n",
        "print(movies.head())\n",
        "print(\"\\nRatings dataset:\")\n",
        "print(ratings.head())"
      ],
      "metadata": {
        "colab": {
          "base_uri": "https://localhost:8080/"
        },
        "id": "FOrQvvOQYo5I",
        "outputId": "58a58f48-4adc-4038-b97d-9106526e4cf0"
      },
      "execution_count": 7,
      "outputs": [
        {
          "output_type": "stream",
          "name": "stdout",
          "text": [
            "Movies dataset:\n",
            "   movieId                               title  \\\n",
            "0        1                    Toy Story (1995)   \n",
            "1        2                      Jumanji (1995)   \n",
            "2        3             Grumpier Old Men (1995)   \n",
            "3        4            Waiting to Exhale (1995)   \n",
            "4        5  Father of the Bride Part II (1995)   \n",
            "\n",
            "                                        genres  \n",
            "0  Adventure|Animation|Children|Comedy|Fantasy  \n",
            "1                   Adventure|Children|Fantasy  \n",
            "2                               Comedy|Romance  \n",
            "3                         Comedy|Drama|Romance  \n",
            "4                                       Comedy  \n",
            "\n",
            "Ratings dataset:\n",
            "   userId  movieId  rating  timestamp\n",
            "0       1        1     4.0  964982703\n",
            "1       1        3     4.0  964981247\n",
            "2       1        6     4.0  964982224\n",
            "3       1       47     5.0  964983815\n",
            "4       1       50     5.0  964982931\n"
          ]
        }
      ]
    },
    {
      "cell_type": "markdown",
      "source": [
        "load data from github,\n",
        "print 5 rows to check data,\n",
        "movie has movieid, title, genres, and\n",
        "rating has  userid, movieid,ratings,timestamp\n",
        "\n"
      ],
      "metadata": {
        "id": "hmlHfDzcatcI"
      }
    },
    {
      "cell_type": "code",
      "source": [
        "# Pivot table: users as rows, movies as columns\n",
        "rating_matrix = ratings.pivot_table(index=\"userId\", columns=\"movieId\", values=\"rating\")\n",
        "\n",
        "# Show first rows\n",
        "print(\"User-Movie rating matrix:\")\n",
        "print(rating_matrix.head())\n"
      ],
      "metadata": {
        "colab": {
          "base_uri": "https://localhost:8080/"
        },
        "id": "tZFViNfHZHmX",
        "outputId": "ba1737ff-0739-4a80-9730-b8e0cd079354"
      },
      "execution_count": 8,
      "outputs": [
        {
          "output_type": "stream",
          "name": "stdout",
          "text": [
            "User-Movie rating matrix:\n",
            "movieId  1       2       3       4       5       6       7       8       \\\n",
            "userId                                                                    \n",
            "1           4.0     NaN     4.0     NaN     NaN     4.0     NaN     NaN   \n",
            "2           NaN     NaN     NaN     NaN     NaN     NaN     NaN     NaN   \n",
            "3           NaN     NaN     NaN     NaN     NaN     NaN     NaN     NaN   \n",
            "4           NaN     NaN     NaN     NaN     NaN     NaN     NaN     NaN   \n",
            "5           4.0     NaN     NaN     NaN     NaN     NaN     NaN     NaN   \n",
            "\n",
            "movieId  9       10      ...  193565  193567  193571  193573  193579  193581  \\\n",
            "userId                   ...                                                   \n",
            "1           NaN     NaN  ...     NaN     NaN     NaN     NaN     NaN     NaN   \n",
            "2           NaN     NaN  ...     NaN     NaN     NaN     NaN     NaN     NaN   \n",
            "3           NaN     NaN  ...     NaN     NaN     NaN     NaN     NaN     NaN   \n",
            "4           NaN     NaN  ...     NaN     NaN     NaN     NaN     NaN     NaN   \n",
            "5           NaN     NaN  ...     NaN     NaN     NaN     NaN     NaN     NaN   \n",
            "\n",
            "movieId  193583  193585  193587  193609  \n",
            "userId                                   \n",
            "1           NaN     NaN     NaN     NaN  \n",
            "2           NaN     NaN     NaN     NaN  \n",
            "3           NaN     NaN     NaN     NaN  \n",
            "4           NaN     NaN     NaN     NaN  \n",
            "5           NaN     NaN     NaN     NaN  \n",
            "\n",
            "[5 rows x 9724 columns]\n"
          ]
        }
      ]
    },
    {
      "cell_type": "markdown",
      "source": [
        "Converts ratings into a table where rows = users, columns = movies, here is some empty cells that means user hasnot rated that movie yet,it's need for svd,and collaborative filtering"
      ],
      "metadata": {
        "id": "fTzi5LS9b0ex"
      }
    },
    {
      "cell_type": "code",
      "source": [
        "from sklearn.metrics.pairwise import cosine_similarity"
      ],
      "metadata": {
        "id": "PVl3OtToaFXI"
      },
      "execution_count": 9,
      "outputs": []
    },
    {
      "cell_type": "code",
      "source": [
        "#fill missing rating\n",
        "rating_filled = rating_matrix.fillna(0)"
      ],
      "metadata": {
        "id": "zTJajQ2SaHEn"
      },
      "execution_count": 10,
      "outputs": []
    },
    {
      "cell_type": "code",
      "source": [
        "#compute similarity between users\n",
        "user_similarity = cosine_similarity(rating_filled)\n",
        "user_similarity_df = pd.DataFrame(user_similarity, index=rating_matrix.index, columns=rating_matrix.index)\n",
        "\n",
        "print(\"User similarity matrix:\")\n",
        "print(user_similarity_df.head())"
      ],
      "metadata": {
        "id": "8vIPV8ESaQzf",
        "outputId": "95df3dce-2def-41db-f97c-6feb602a5cf5",
        "colab": {
          "base_uri": "https://localhost:8080/"
        }
      },
      "execution_count": 11,
      "outputs": [
        {
          "output_type": "stream",
          "name": "stdout",
          "text": [
            "User similarity matrix:\n",
            "userId       1         2         3         4         5         6         7    \\\n",
            "userId                                                                         \n",
            "1       1.000000  0.027283  0.059720  0.194395  0.129080  0.128152  0.158744   \n",
            "2       0.027283  1.000000  0.000000  0.003726  0.016614  0.025333  0.027585   \n",
            "3       0.059720  0.000000  1.000000  0.002251  0.005020  0.003936  0.000000   \n",
            "4       0.194395  0.003726  0.002251  1.000000  0.128659  0.088491  0.115120   \n",
            "5       0.129080  0.016614  0.005020  0.128659  1.000000  0.300349  0.108342   \n",
            "\n",
            "userId       8         9         10   ...       601       602       603  \\\n",
            "userId                                ...                                 \n",
            "1       0.136968  0.064263  0.016875  ...  0.080554  0.164455  0.221486   \n",
            "2       0.027257  0.000000  0.067445  ...  0.202671  0.016866  0.011997   \n",
            "3       0.004941  0.000000  0.000000  ...  0.005048  0.004892  0.024992   \n",
            "4       0.062969  0.011361  0.031163  ...  0.085938  0.128273  0.307973   \n",
            "5       0.429075  0.000000  0.030611  ...  0.068048  0.418747  0.110148   \n",
            "\n",
            "userId       604       605       606       607       608       609       610  \n",
            "userId                                                                        \n",
            "1       0.070669  0.153625  0.164191  0.269389  0.291097  0.093572  0.145321  \n",
            "2       0.000000  0.000000  0.028429  0.012948  0.046211  0.027565  0.102427  \n",
            "3       0.000000  0.010694  0.012993  0.019247  0.021128  0.000000  0.032119  \n",
            "4       0.052985  0.084584  0.200395  0.131746  0.149858  0.032198  0.107683  \n",
            "5       0.258773  0.148758  0.106435  0.152866  0.135535  0.261232  0.060792  \n",
            "\n",
            "[5 rows x 610 columns]\n"
          ]
        }
      ]
    },
    {
      "cell_type": "markdown",
      "source": [
        "Calculates cosine similarity between users based on their ratings,and this will help to predict which movies user will like\n",
        "\n"
      ],
      "metadata": {
        "id": "5JzHpXx2caNK"
      }
    },
    {
      "cell_type": "code",
      "source": [
        "# average ratings\n",
        "user_mean_ratings = rating_filled.mean(axis=1).values.reshape(-1, 1)"
      ],
      "metadata": {
        "id": "x6ZtoEQYc3My"
      },
      "execution_count": 12,
      "outputs": []
    },
    {
      "cell_type": "code",
      "source": [
        "# Predicted ratings = user mean + weighted similarity\n",
        "predicted_ratings = user_mean_ratings + (user_similarity @ (rating_filled - user_mean_ratings)) / np.abs(user_similarity).sum(axis=1).reshape(-1, 1)\n",
        "\n",
        "pred_ratings_df = pd.DataFrame(predicted_ratings, index=rating_matrix.index, columns=rating_matrix.columns)\n",
        "\n",
        "print(\"Predicted ratings (User-Based CF):\")\n",
        "print(pred_ratings_df.head())"
      ],
      "metadata": {
        "id": "NDVBaYAmdFiU",
        "outputId": "8ef1aef6-a2a2-4716-a7ae-88cb74dd4f69",
        "colab": {
          "base_uri": "https://localhost:8080/"
        }
      },
      "execution_count": 13,
      "outputs": [
        {
          "output_type": "stream",
          "name": "stdout",
          "text": [
            "Predicted ratings (User-Based CF):\n",
            "movieId    1         2         3         4         5         6         7       \\\n",
            "userId                                                                          \n",
            "1        1.303441  0.558728  0.088670 -0.051682  0.092868  0.552797  0.061363   \n",
            "2        1.499072  0.711746  0.367174 -0.062537  0.141608  1.058007  0.231937   \n",
            "3        1.757619  0.737548  0.339010  0.021242  0.252259  0.912959  0.340930   \n",
            "4        1.708124  0.870158  0.331072  0.019857  0.328812  0.829792  0.385542   \n",
            "5        1.812384  1.144374  0.630491  0.151292  0.623463  1.114848  0.675453   \n",
            "\n",
            "movieId    8         9         10      ...    193565    193567    193571  \\\n",
            "userId                                 ...                                 \n",
            "1       -0.035775 -0.036335  0.562064  ... -0.048683 -0.050523 -0.046844   \n",
            "2       -0.025217 -0.010468  0.856025  ... -0.085081 -0.085081 -0.085081   \n",
            "3        0.030206  0.052039  0.919326  ... -0.009822 -0.009907 -0.009737   \n",
            "4        0.028512  0.038132  1.175943  ... -0.040056 -0.040056 -0.040056   \n",
            "5        0.178070  0.210923  1.453335  ...  0.051228  0.051228  0.051228   \n",
            "\n",
            "movieId    193573    193579    193581    193583    193585    193587    193609  \n",
            "userId                                                                         \n",
            "1       -0.046844 -0.048683 -0.046844 -0.048683 -0.048683 -0.048683 -0.036765  \n",
            "2       -0.085081 -0.085081 -0.085081 -0.085081 -0.085081 -0.085081 -0.085081  \n",
            "3       -0.009737 -0.009822 -0.009737 -0.009822 -0.009822 -0.009822 -0.005622  \n",
            "4       -0.040056 -0.040056 -0.040056 -0.040056 -0.040056 -0.040056 -0.036465  \n",
            "5        0.051228  0.051228  0.051228  0.051228  0.051228  0.051228  0.052999  \n",
            "\n",
            "[5 rows x 9724 columns]\n"
          ]
        }
      ]
    },
    {
      "cell_type": "markdown",
      "source": [
        "Predict unknown ratings based on similar users, and this help to estimate what movies user might enjoy"
      ],
      "metadata": {
        "id": "OGI6fR3kdN-6"
      }
    },
    {
      "cell_type": "code",
      "source": [
        "from sklearn.decomposition import TruncatedSVD"
      ],
      "metadata": {
        "id": "PImyYZAmdcKC"
      },
      "execution_count": 14,
      "outputs": []
    },
    {
      "cell_type": "code",
      "source": [
        "# Convert filled rating matrix to numpy array\n",
        "matrix = rating_filled.values"
      ],
      "metadata": {
        "id": "UK29tLrtdhxU"
      },
      "execution_count": 15,
      "outputs": []
    },
    {
      "cell_type": "code",
      "source": [
        "# Apply SVD\n",
        "svd = TruncatedSVD(n_components=20, random_state=42)\n",
        "latent_matrix = svd.fit_transform(matrix)\n",
        "reconstructed = np.dot(latent_matrix, svd.components_)\n",
        "\n",
        "svd_ratings_df = pd.DataFrame(reconstructed, index=rating_matrix.index, columns=rating_matrix.columns)\n",
        "\n",
        "print(\"Predicted ratings (SVD):\")\n",
        "print(svd_ratings_df.head())"
      ],
      "metadata": {
        "id": "ffwyzUxfdo97",
        "outputId": "5237b207-36d2-4419-e7fd-23951f4adf94",
        "colab": {
          "base_uri": "https://localhost:8080/"
        }
      },
      "execution_count": 16,
      "outputs": [
        {
          "output_type": "stream",
          "name": "stdout",
          "text": [
            "Predicted ratings (SVD):\n",
            "movieId    1         2         3         4         5         6         7       \\\n",
            "userId                                                                          \n",
            "1        2.789173  1.471277  1.280870 -0.024856  0.254759  1.609531  0.232396   \n",
            "2        0.016553  0.010828 -0.012655  0.000473 -0.005400 -0.036313 -0.046721   \n",
            "3       -0.014042  0.047094  0.029815 -0.007728 -0.044938  0.034280 -0.017809   \n",
            "4        2.564164  0.067424  0.220364  0.101337  0.394431  0.752309  0.489290   \n",
            "5        1.392494  0.968864  0.353202  0.125885  0.498931  0.649854  0.512006   \n",
            "\n",
            "movieId    8         9         10      ...    193565    193567    193571  \\\n",
            "userId                                 ...                                 \n",
            "1        0.115948  0.193227  1.286942  ... -0.009538 -0.008175 -0.010901   \n",
            "2        0.008091 -0.002748 -0.107562  ...  0.009905  0.008490  0.011320   \n",
            "3        0.012079 -0.005503  0.016433  ...  0.000003  0.000003  0.000004   \n",
            "4       -0.036030  0.131220 -0.132042  ...  0.000655  0.000562  0.000749   \n",
            "5        0.151404  0.048942  1.132343  ... -0.000573 -0.000491 -0.000655   \n",
            "\n",
            "movieId    193573    193579    193581    193583    193585    193587    193609  \n",
            "userId                                                                         \n",
            "1       -0.010901 -0.009538 -0.010901 -0.009538 -0.009538 -0.009538 -0.033415  \n",
            "2        0.011320  0.009905  0.011320  0.009905  0.009905  0.009905  0.015023  \n",
            "3        0.000004  0.000003  0.000004  0.000003  0.000003  0.000003 -0.003004  \n",
            "4        0.000749  0.000655  0.000749  0.000655  0.000655  0.000655 -0.006352  \n",
            "5       -0.000655 -0.000573 -0.000655 -0.000573 -0.000573 -0.000573  0.002053  \n",
            "\n",
            "[5 rows x 9724 columns]\n"
          ]
        }
      ]
    },
    {
      "cell_type": "markdown",
      "source": [
        "SVD reduces the large rating matrix into latent features, and reconstructs the matrix to predict missing ratings.It often works better than user-based CF because it captures hidden patterns"
      ],
      "metadata": {
        "id": "k2EO5lOfduza"
      }
    },
    {
      "cell_type": "code",
      "source": [
        "def recommend_movies(user_id, N=5, method=\"svd\"):\n",
        "\n",
        "    #Returns top-N recommended movies for a user.\n",
        "    #method: 'svd' or 'user'\n",
        "\n",
        "    if method == \"user\":\n",
        "        user_ratings = pred_ratings_df.loc[user_id]\n",
        "    else:\n",
        "        user_ratings = svd_ratings_df.loc[user_id]\n",
        "\n",
        "    # Remove movies already rated\n",
        "    watched = rating_matrix.loc[user_id].dropna().index\n",
        "    recommendations = user_ratings.drop(watched).sort_values(ascending=False).head(N)\n",
        "\n",
        "    return movies[movies[\"movieId\"].isin(recommendations.index)][[\"movieId\", \"title\"]]\n",
        "\n",
        "# Example: Top 5 movies for user 1\n",
        "print(\"Top 5 recommended movies for user 1:\")\n",
        "display(recommend_movies(1, N=5, method=\"svd\"))\n"
      ],
      "metadata": {
        "id": "nwN5VdKpeJNc",
        "outputId": "f2d03c1b-2ef4-4d38-e142-b121b626e455",
        "colab": {
          "base_uri": "https://localhost:8080/",
          "height": 224
        }
      },
      "execution_count": 20,
      "outputs": [
        {
          "output_type": "stream",
          "name": "stdout",
          "text": [
            "Top 5 recommended movies for user 1:\n"
          ]
        },
        {
          "output_type": "display_data",
          "data": {
            "text/plain": [
              "      movieId                              title\n",
              "507       589  Terminator 2: Judgment Day (1991)\n",
              "902      1200                      Aliens (1986)\n",
              "958      1259                 Stand by Me (1986)\n",
              "1445     1968         Breakfast Club, The (1985)\n",
              "2078     2762            Sixth Sense, The (1999)"
            ],
            "text/html": [
              "\n",
              "  <div id=\"df-fb4c002a-115b-4c96-bde0-e9d74dd4921e\" class=\"colab-df-container\">\n",
              "    <div>\n",
              "<style scoped>\n",
              "    .dataframe tbody tr th:only-of-type {\n",
              "        vertical-align: middle;\n",
              "    }\n",
              "\n",
              "    .dataframe tbody tr th {\n",
              "        vertical-align: top;\n",
              "    }\n",
              "\n",
              "    .dataframe thead th {\n",
              "        text-align: right;\n",
              "    }\n",
              "</style>\n",
              "<table border=\"1\" class=\"dataframe\">\n",
              "  <thead>\n",
              "    <tr style=\"text-align: right;\">\n",
              "      <th></th>\n",
              "      <th>movieId</th>\n",
              "      <th>title</th>\n",
              "    </tr>\n",
              "  </thead>\n",
              "  <tbody>\n",
              "    <tr>\n",
              "      <th>507</th>\n",
              "      <td>589</td>\n",
              "      <td>Terminator 2: Judgment Day (1991)</td>\n",
              "    </tr>\n",
              "    <tr>\n",
              "      <th>902</th>\n",
              "      <td>1200</td>\n",
              "      <td>Aliens (1986)</td>\n",
              "    </tr>\n",
              "    <tr>\n",
              "      <th>958</th>\n",
              "      <td>1259</td>\n",
              "      <td>Stand by Me (1986)</td>\n",
              "    </tr>\n",
              "    <tr>\n",
              "      <th>1445</th>\n",
              "      <td>1968</td>\n",
              "      <td>Breakfast Club, The (1985)</td>\n",
              "    </tr>\n",
              "    <tr>\n",
              "      <th>2078</th>\n",
              "      <td>2762</td>\n",
              "      <td>Sixth Sense, The (1999)</td>\n",
              "    </tr>\n",
              "  </tbody>\n",
              "</table>\n",
              "</div>\n",
              "    <div class=\"colab-df-buttons\">\n",
              "\n",
              "  <div class=\"colab-df-container\">\n",
              "    <button class=\"colab-df-convert\" onclick=\"convertToInteractive('df-fb4c002a-115b-4c96-bde0-e9d74dd4921e')\"\n",
              "            title=\"Convert this dataframe to an interactive table.\"\n",
              "            style=\"display:none;\">\n",
              "\n",
              "  <svg xmlns=\"http://www.w3.org/2000/svg\" height=\"24px\" viewBox=\"0 -960 960 960\">\n",
              "    <path d=\"M120-120v-720h720v720H120Zm60-500h600v-160H180v160Zm220 220h160v-160H400v160Zm0 220h160v-160H400v160ZM180-400h160v-160H180v160Zm440 0h160v-160H620v160ZM180-180h160v-160H180v160Zm440 0h160v-160H620v160Z\"/>\n",
              "  </svg>\n",
              "    </button>\n",
              "\n",
              "  <style>\n",
              "    .colab-df-container {\n",
              "      display:flex;\n",
              "      gap: 12px;\n",
              "    }\n",
              "\n",
              "    .colab-df-convert {\n",
              "      background-color: #E8F0FE;\n",
              "      border: none;\n",
              "      border-radius: 50%;\n",
              "      cursor: pointer;\n",
              "      display: none;\n",
              "      fill: #1967D2;\n",
              "      height: 32px;\n",
              "      padding: 0 0 0 0;\n",
              "      width: 32px;\n",
              "    }\n",
              "\n",
              "    .colab-df-convert:hover {\n",
              "      background-color: #E2EBFA;\n",
              "      box-shadow: 0px 1px 2px rgba(60, 64, 67, 0.3), 0px 1px 3px 1px rgba(60, 64, 67, 0.15);\n",
              "      fill: #174EA6;\n",
              "    }\n",
              "\n",
              "    .colab-df-buttons div {\n",
              "      margin-bottom: 4px;\n",
              "    }\n",
              "\n",
              "    [theme=dark] .colab-df-convert {\n",
              "      background-color: #3B4455;\n",
              "      fill: #D2E3FC;\n",
              "    }\n",
              "\n",
              "    [theme=dark] .colab-df-convert:hover {\n",
              "      background-color: #434B5C;\n",
              "      box-shadow: 0px 1px 3px 1px rgba(0, 0, 0, 0.15);\n",
              "      filter: drop-shadow(0px 1px 2px rgba(0, 0, 0, 0.3));\n",
              "      fill: #FFFFFF;\n",
              "    }\n",
              "  </style>\n",
              "\n",
              "    <script>\n",
              "      const buttonEl =\n",
              "        document.querySelector('#df-fb4c002a-115b-4c96-bde0-e9d74dd4921e button.colab-df-convert');\n",
              "      buttonEl.style.display =\n",
              "        google.colab.kernel.accessAllowed ? 'block' : 'none';\n",
              "\n",
              "      async function convertToInteractive(key) {\n",
              "        const element = document.querySelector('#df-fb4c002a-115b-4c96-bde0-e9d74dd4921e');\n",
              "        const dataTable =\n",
              "          await google.colab.kernel.invokeFunction('convertToInteractive',\n",
              "                                                    [key], {});\n",
              "        if (!dataTable) return;\n",
              "\n",
              "        const docLinkHtml = 'Like what you see? Visit the ' +\n",
              "          '<a target=\"_blank\" href=https://colab.research.google.com/notebooks/data_table.ipynb>data table notebook</a>'\n",
              "          + ' to learn more about interactive tables.';\n",
              "        element.innerHTML = '';\n",
              "        dataTable['output_type'] = 'display_data';\n",
              "        await google.colab.output.renderOutput(dataTable, element);\n",
              "        const docLink = document.createElement('div');\n",
              "        docLink.innerHTML = docLinkHtml;\n",
              "        element.appendChild(docLink);\n",
              "      }\n",
              "    </script>\n",
              "  </div>\n",
              "\n",
              "\n",
              "    <div id=\"df-3ac4191f-f6f1-453d-af3f-4805e7dd30a2\">\n",
              "      <button class=\"colab-df-quickchart\" onclick=\"quickchart('df-3ac4191f-f6f1-453d-af3f-4805e7dd30a2')\"\n",
              "                title=\"Suggest charts\"\n",
              "                style=\"display:none;\">\n",
              "\n",
              "<svg xmlns=\"http://www.w3.org/2000/svg\" height=\"24px\"viewBox=\"0 0 24 24\"\n",
              "     width=\"24px\">\n",
              "    <g>\n",
              "        <path d=\"M19 3H5c-1.1 0-2 .9-2 2v14c0 1.1.9 2 2 2h14c1.1 0 2-.9 2-2V5c0-1.1-.9-2-2-2zM9 17H7v-7h2v7zm4 0h-2V7h2v10zm4 0h-2v-4h2v4z\"/>\n",
              "    </g>\n",
              "</svg>\n",
              "      </button>\n",
              "\n",
              "<style>\n",
              "  .colab-df-quickchart {\n",
              "      --bg-color: #E8F0FE;\n",
              "      --fill-color: #1967D2;\n",
              "      --hover-bg-color: #E2EBFA;\n",
              "      --hover-fill-color: #174EA6;\n",
              "      --disabled-fill-color: #AAA;\n",
              "      --disabled-bg-color: #DDD;\n",
              "  }\n",
              "\n",
              "  [theme=dark] .colab-df-quickchart {\n",
              "      --bg-color: #3B4455;\n",
              "      --fill-color: #D2E3FC;\n",
              "      --hover-bg-color: #434B5C;\n",
              "      --hover-fill-color: #FFFFFF;\n",
              "      --disabled-bg-color: #3B4455;\n",
              "      --disabled-fill-color: #666;\n",
              "  }\n",
              "\n",
              "  .colab-df-quickchart {\n",
              "    background-color: var(--bg-color);\n",
              "    border: none;\n",
              "    border-radius: 50%;\n",
              "    cursor: pointer;\n",
              "    display: none;\n",
              "    fill: var(--fill-color);\n",
              "    height: 32px;\n",
              "    padding: 0;\n",
              "    width: 32px;\n",
              "  }\n",
              "\n",
              "  .colab-df-quickchart:hover {\n",
              "    background-color: var(--hover-bg-color);\n",
              "    box-shadow: 0 1px 2px rgba(60, 64, 67, 0.3), 0 1px 3px 1px rgba(60, 64, 67, 0.15);\n",
              "    fill: var(--button-hover-fill-color);\n",
              "  }\n",
              "\n",
              "  .colab-df-quickchart-complete:disabled,\n",
              "  .colab-df-quickchart-complete:disabled:hover {\n",
              "    background-color: var(--disabled-bg-color);\n",
              "    fill: var(--disabled-fill-color);\n",
              "    box-shadow: none;\n",
              "  }\n",
              "\n",
              "  .colab-df-spinner {\n",
              "    border: 2px solid var(--fill-color);\n",
              "    border-color: transparent;\n",
              "    border-bottom-color: var(--fill-color);\n",
              "    animation:\n",
              "      spin 1s steps(1) infinite;\n",
              "  }\n",
              "\n",
              "  @keyframes spin {\n",
              "    0% {\n",
              "      border-color: transparent;\n",
              "      border-bottom-color: var(--fill-color);\n",
              "      border-left-color: var(--fill-color);\n",
              "    }\n",
              "    20% {\n",
              "      border-color: transparent;\n",
              "      border-left-color: var(--fill-color);\n",
              "      border-top-color: var(--fill-color);\n",
              "    }\n",
              "    30% {\n",
              "      border-color: transparent;\n",
              "      border-left-color: var(--fill-color);\n",
              "      border-top-color: var(--fill-color);\n",
              "      border-right-color: var(--fill-color);\n",
              "    }\n",
              "    40% {\n",
              "      border-color: transparent;\n",
              "      border-right-color: var(--fill-color);\n",
              "      border-top-color: var(--fill-color);\n",
              "    }\n",
              "    60% {\n",
              "      border-color: transparent;\n",
              "      border-right-color: var(--fill-color);\n",
              "    }\n",
              "    80% {\n",
              "      border-color: transparent;\n",
              "      border-right-color: var(--fill-color);\n",
              "      border-bottom-color: var(--fill-color);\n",
              "    }\n",
              "    90% {\n",
              "      border-color: transparent;\n",
              "      border-bottom-color: var(--fill-color);\n",
              "    }\n",
              "  }\n",
              "</style>\n",
              "\n",
              "      <script>\n",
              "        async function quickchart(key) {\n",
              "          const quickchartButtonEl =\n",
              "            document.querySelector('#' + key + ' button');\n",
              "          quickchartButtonEl.disabled = true;  // To prevent multiple clicks.\n",
              "          quickchartButtonEl.classList.add('colab-df-spinner');\n",
              "          try {\n",
              "            const charts = await google.colab.kernel.invokeFunction(\n",
              "                'suggestCharts', [key], {});\n",
              "          } catch (error) {\n",
              "            console.error('Error during call to suggestCharts:', error);\n",
              "          }\n",
              "          quickchartButtonEl.classList.remove('colab-df-spinner');\n",
              "          quickchartButtonEl.classList.add('colab-df-quickchart-complete');\n",
              "        }\n",
              "        (() => {\n",
              "          let quickchartButtonEl =\n",
              "            document.querySelector('#df-3ac4191f-f6f1-453d-af3f-4805e7dd30a2 button');\n",
              "          quickchartButtonEl.style.display =\n",
              "            google.colab.kernel.accessAllowed ? 'block' : 'none';\n",
              "        })();\n",
              "      </script>\n",
              "    </div>\n",
              "\n",
              "    </div>\n",
              "  </div>\n"
            ],
            "application/vnd.google.colaboratory.intrinsic+json": {
              "type": "dataframe",
              "summary": "{\n  \"name\": \"display(recommend_movies(1, N=5, method=\\\"svd\\\"))\",\n  \"rows\": 5,\n  \"fields\": [\n    {\n      \"column\": \"movieId\",\n      \"properties\": {\n        \"dtype\": \"number\",\n        \"std\": 832,\n        \"min\": 589,\n        \"max\": 2762,\n        \"num_unique_values\": 5,\n        \"samples\": [\n          1200,\n          2762,\n          1259\n        ],\n        \"semantic_type\": \"\",\n        \"description\": \"\"\n      }\n    },\n    {\n      \"column\": \"title\",\n      \"properties\": {\n        \"dtype\": \"string\",\n        \"num_unique_values\": 5,\n        \"samples\": [\n          \"Aliens (1986)\",\n          \"Sixth Sense, The (1999)\",\n          \"Stand by Me (1986)\"\n        ],\n        \"semantic_type\": \"\",\n        \"description\": \"\"\n      }\n    }\n  ]\n}"
            }
          },
          "metadata": {}
        }
      ]
    },
    {
      "cell_type": "markdown",
      "source": [
        "Returns the Top-N recommended movies for a given user,removes movies the user already rated, and supports user-based CF (method=\"user\") or SVD (method=\"svd\")."
      ],
      "metadata": {
        "id": "x_fZ09PoeyBV"
      }
    }
  ]
}