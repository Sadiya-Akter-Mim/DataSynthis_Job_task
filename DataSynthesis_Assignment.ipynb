{
  "nbformat": 4,
  "nbformat_minor": 0,
  "metadata": {
    "colab": {
      "provenance": [],
      "authorship_tag": "ABX9TyOddAB61Qrqb5HybKfgY1AH",
      "include_colab_link": true
    },
    "kernelspec": {
      "name": "python3",
      "display_name": "Python 3"
    },
    "language_info": {
      "name": "python"
    }
  },
  "cells": [
    {
      "cell_type": "markdown",
      "metadata": {
        "id": "view-in-github",
        "colab_type": "text"
      },
      "source": [
        "<a href=\"https://colab.research.google.com/github/Sadiya-Akter-Mim/MovieLens-Recommender-Assignment/blob/main/DataSynthesis_Assignment.ipynb\" target=\"_parent\"><img src=\"https://colab.research.google.com/assets/colab-badge.svg\" alt=\"Open In Colab\"/></a>"
      ]
    },
    {
      "cell_type": "code",
      "execution_count": null,
      "metadata": {
        "id": "m4c35KziQClx"
      },
      "outputs": [],
      "source": [
        "!pip install --upgrade pip\n",
        "!pip install pandas numpy scikit-learn scipy matplotlib seaborn scikit-surprise joblib gradio==3.43.2\n"
      ]
    },
    {
      "cell_type": "code",
      "source": [
        "import os, math, time, shutil\n",
        "from pathlib import Path\n",
        "import numpy as np\n",
        "import pandas as pd\n",
        "from sklearn.metrics.pairwise import cosine_similarity\n",
        "import joblib\n",
        "from surprise import Dataset, Reader, SVD\n",
        "import matplotlib.pyplot as plt\n",
        "import seaborn as sns\n",
        "sns.set_style(\"whitegrid\")\n",
        "\n",
        "# Reproducible RNG\n",
        "RNG = 42\n",
        "np.random.seed(RNG)\n",
        "\n",
        "# Directories\n",
        "DATA_DIR = Path(\"data\")\n",
        "MODEL_DIR = Path(\"models\")\n",
        "OUTPUT_DIR = Path(\"output\")\n",
        "for d in [DATA_DIR, MODEL_DIR, OUTPUT_DIR]:\n",
        "    d.mkdir(exist_ok=True)\n"
      ],
      "metadata": {
        "id": "MJZxY8AATLWO"
      },
      "execution_count": 2,
      "outputs": []
    }
  ]
}