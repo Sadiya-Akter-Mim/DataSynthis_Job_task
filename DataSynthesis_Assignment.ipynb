{
  "nbformat": 4,
  "nbformat_minor": 0,
  "metadata": {
    "colab": {
      "provenance": [],
      "authorship_tag": "ABX9TyMVZYAcanvSxxnYU5nFS32t",
      "include_colab_link": true
    },
    "kernelspec": {
      "name": "python3",
      "display_name": "Python 3"
    },
    "language_info": {
      "name": "python"
    }
  },
  "cells": [
    {
      "cell_type": "markdown",
      "metadata": {
        "id": "view-in-github",
        "colab_type": "text"
      },
      "source": [
        "<a href=\"https://colab.research.google.com/github/Sadiya-Akter-Mim/MovieLens-Recommender-Assignment/blob/main/DataSynthesis_Assignment.ipynb\" target=\"_parent\"><img src=\"https://colab.research.google.com/assets/colab-badge.svg\" alt=\"Open In Colab\"/></a>"
      ]
    },
    {
      "cell_type": "code",
      "execution_count": 24,
      "metadata": {
        "id": "m4c35KziQClx"
      },
      "outputs": [],
      "source": [
        "import pandas as pd\n",
        "import numpy as np\n",
        "from sklearn.decomposition import TruncatedSVD\n",
        "from sklearn.model_selection import train_test_split\n"
      ]
    },
    {
      "cell_type": "code",
      "source": [
        "#github raw link\n",
        "\n",
        "movies_url  = \"https://raw.githubusercontent.com/Sadiya-Akter-Mim/MovieLens-Recommender-Assignment/main/movies.csv\"\n",
        "ratings_url = \"https://raw.githubusercontent.com/Sadiya-Akter-Mim/MovieLens-Recommender-Assignment/main/ratings.csv\""
      ],
      "metadata": {
        "id": "MJZxY8AATLWO"
      },
      "execution_count": 25,
      "outputs": []
    },
    {
      "cell_type": "code",
      "source": [
        "#load dataset\n",
        "movies = pd.read_csv(movies_url)\n",
        "ratings = pd.read_csv(ratings_url)"
      ],
      "metadata": {
        "id": "8ADKQMRHYX9d"
      },
      "execution_count": 26,
      "outputs": []
    },
    {
      "cell_type": "code",
      "source": [
        "#show 5 rows\n",
        "print(\"Movies dataset:\")\n",
        "print(movies.head())\n",
        "print(\"\\nRatings dataset:\")\n",
        "print(ratings.head())"
      ],
      "metadata": {
        "colab": {
          "base_uri": "https://localhost:8080/"
        },
        "id": "FOrQvvOQYo5I",
        "outputId": "b935d40d-133f-422a-cab2-cfff7e2b00a3"
      },
      "execution_count": 27,
      "outputs": [
        {
          "output_type": "stream",
          "name": "stdout",
          "text": [
            "Movies dataset:\n",
            "   movieId                               title  \\\n",
            "0        1                    Toy Story (1995)   \n",
            "1        2                      Jumanji (1995)   \n",
            "2        3             Grumpier Old Men (1995)   \n",
            "3        4            Waiting to Exhale (1995)   \n",
            "4        5  Father of the Bride Part II (1995)   \n",
            "\n",
            "                                        genres  \n",
            "0  Adventure|Animation|Children|Comedy|Fantasy  \n",
            "1                   Adventure|Children|Fantasy  \n",
            "2                               Comedy|Romance  \n",
            "3                         Comedy|Drama|Romance  \n",
            "4                                       Comedy  \n",
            "\n",
            "Ratings dataset:\n",
            "   userId  movieId  rating  timestamp\n",
            "0       1        1     4.0  964982703\n",
            "1       1        3     4.0  964981247\n",
            "2       1        6     4.0  964982224\n",
            "3       1       47     5.0  964983815\n",
            "4       1       50     5.0  964982931\n"
          ]
        }
      ]
    },
    {
      "cell_type": "markdown",
      "source": [
        "load data from github,\n",
        "print 5 rows to check data,\n",
        "movie has movieid, title, genres, and\n",
        "rating has  userid, movieid,ratings,timestamp\n",
        "\n"
      ],
      "metadata": {
        "id": "hmlHfDzcatcI"
      }
    },
    {
      "cell_type": "code",
      "source": [
        "# Split ratings into train (80%) and test (20%) for evaluation\n",
        "train, test = train_test_split(ratings, test_size=0.2, random_state=42)\n",
        "\n",
        "print(\"Train size:\", train.shape)\n",
        "print(\"Test size:\", test.shape)\n"
      ],
      "metadata": {
        "id": "ROUIDcdFj1Wi",
        "outputId": "8615d1b0-5745-443c-9609-215ca89f6aa5",
        "colab": {
          "base_uri": "https://localhost:8080/"
        }
      },
      "execution_count": 30,
      "outputs": [
        {
          "output_type": "stream",
          "name": "stdout",
          "text": [
            "Train size: (80668, 4)\n",
            "Test size: (20168, 4)\n"
          ]
        }
      ]
    },
    {
      "cell_type": "markdown",
      "source": [
        "Train set is used to train SVD,and test set is used to evaluate recommendations."
      ],
      "metadata": {
        "id": "E76c5uA3j5eq"
      }
    },
    {
      "cell_type": "code",
      "source": [
        "# Create User-Movie matrix from train set\n",
        "train_matrix = train.pivot_table(index=\"userId\", columns=\"movieId\", values=\"rating\").fillna(0)\n",
        "\n",
        "print(\"User-Movie matrix:\")\n",
        "print(train_matrix.head())\n"
      ],
      "metadata": {
        "colab": {
          "base_uri": "https://localhost:8080/"
        },
        "id": "PImyYZAmdcKC",
        "outputId": "e9ff17ac-e855-410a-bd82-71bae8ef18ad"
      },
      "execution_count": 29,
      "outputs": [
        {
          "output_type": "stream",
          "name": "stdout",
          "text": [
            "User-Movie matrix:\n",
            "movieId  1       2       3       4       5       6       7       8       \\\n",
            "userId                                                                    \n",
            "1           4.0     0.0     4.0     0.0     0.0     4.0     0.0     0.0   \n",
            "2           0.0     0.0     0.0     0.0     0.0     0.0     0.0     0.0   \n",
            "3           0.0     0.0     0.0     0.0     0.0     0.0     0.0     0.0   \n",
            "4           0.0     0.0     0.0     0.0     0.0     0.0     0.0     0.0   \n",
            "5           0.0     0.0     0.0     0.0     0.0     0.0     0.0     0.0   \n",
            "\n",
            "movieId  9       10      ...  191005  193565  193571  193573  193579  193581  \\\n",
            "userId                   ...                                                   \n",
            "1           0.0     0.0  ...     0.0     0.0     0.0     0.0     0.0     0.0   \n",
            "2           0.0     0.0  ...     0.0     0.0     0.0     0.0     0.0     0.0   \n",
            "3           0.0     0.0  ...     0.0     0.0     0.0     0.0     0.0     0.0   \n",
            "4           0.0     0.0  ...     0.0     0.0     0.0     0.0     0.0     0.0   \n",
            "5           0.0     0.0  ...     0.0     0.0     0.0     0.0     0.0     0.0   \n",
            "\n",
            "movieId  193583  193585  193587  193609  \n",
            "userId                                   \n",
            "1           0.0     0.0     0.0     0.0  \n",
            "2           0.0     0.0     0.0     0.0  \n",
            "3           0.0     0.0     0.0     0.0  \n",
            "4           0.0     0.0     0.0     0.0  \n",
            "5           0.0     0.0     0.0     0.0  \n",
            "\n",
            "[5 rows x 8983 columns]\n"
          ]
        }
      ]
    },
    {
      "cell_type": "markdown",
      "source": [
        "Converts train ratings to a matrix with users as rows,movies as columns,and missing values filled with 0 for SVD."
      ],
      "metadata": {
        "id": "wip5uRIykCHB"
      }
    },
    {
      "cell_type": "code",
      "source": [
        "# Convert to numpy array for SVD\n",
        "matrix = train_matrix.values\n",
        "\n",
        "# Apply TruncatedSVD\n",
        "svd = TruncatedSVD(n_components=20, random_state=42)\n",
        "latent_matrix = svd.fit_transform(matrix)\n",
        "reconstructed = np.dot(latent_matrix, svd.components_)\n",
        "\n",
        "# Convert back to DataFrame\n",
        "svd_train_df = pd.DataFrame(reconstructed, index=train_matrix.index, columns=train_matrix.columns)\n",
        "\n",
        "print(\"SVD trained rating matrix:\")\n",
        "print(svd_train_df.head())\n"
      ],
      "metadata": {
        "colab": {
          "base_uri": "https://localhost:8080/"
        },
        "id": "UK29tLrtdhxU",
        "outputId": "6352d73b-9d45-4c7f-8431-9cde4900eeef"
      },
      "execution_count": 31,
      "outputs": [
        {
          "output_type": "stream",
          "name": "stdout",
          "text": [
            "SVD trained rating matrix:\n",
            "movieId    1         2         3         4         5         6         7       \\\n",
            "userId                                                                          \n",
            "1        2.276717  1.254279  1.111054  0.009030  0.154842  1.467038  0.274476   \n",
            "2        0.159419 -0.005200  0.031014  0.006267  0.028691 -0.045036 -0.028494   \n",
            "3        0.046178  0.021501  0.032577 -0.003379 -0.012925  0.036691 -0.003069   \n",
            "4        1.716662  0.323975  0.138665  0.029194  0.179403  0.507154  0.358360   \n",
            "5        1.108818  0.792571  0.270276  0.105957  0.383099  0.462174  0.462996   \n",
            "\n",
            "movieId    8         9         10      ...    191005    193565    193571  \\\n",
            "userId                                 ...                                 \n",
            "1        0.041337  0.163454  1.531384  ... -0.014538 -0.011308 -0.012923   \n",
            "2        0.026206  0.019432 -0.076790  ...  0.011383  0.008854  0.010119   \n",
            "3        0.006263  0.012388  0.016572  ... -0.000318 -0.000247 -0.000282   \n",
            "4       -0.050802  0.007065  0.331316  ... -0.001685 -0.001310 -0.001498   \n",
            "5        0.127123  0.047584  1.036694  ... -0.002248 -0.001749 -0.001998   \n",
            "\n",
            "movieId    193573    193579    193581    193583    193585    193587    193609  \n",
            "userId                                                                         \n",
            "1       -0.012923 -0.011308 -0.012923 -0.011308 -0.011308 -0.011308 -0.026245  \n",
            "2        0.010119  0.008854  0.010119  0.008854  0.008854  0.008854  0.014487  \n",
            "3       -0.000282 -0.000247 -0.000282 -0.000247 -0.000247 -0.000247 -0.001735  \n",
            "4       -0.001498 -0.001310 -0.001498 -0.001310 -0.001310 -0.001310 -0.008362  \n",
            "5       -0.001998 -0.001749 -0.001998 -0.001749 -0.001749 -0.001749 -0.003188  \n",
            "\n",
            "[5 rows x 8983 columns]\n"
          ]
        }
      ]
    },
    {
      "cell_type": "markdown",
      "source": [
        "Trains SVD to capture latent features, and reconstruct matrix to predict missing ratings."
      ],
      "metadata": {
        "id": "NobYbpankQ2b"
      }
    },
    {
      "cell_type": "code",
      "source": [
        "def recommend_movies(user_id, N=10):\n",
        "\n",
        "    #Returns Top-N recommended movies for a given user using SVD\n",
        "\n",
        "    if user_id not in svd_train_df.index:\n",
        "        return []\n",
        "\n",
        "    user_ratings = svd_train_df.loc[user_id]\n",
        "\n",
        "    # Remove movies already rated in train\n",
        "    watched = train[train[\"userId\"] == user_id][\"movieId\"].values\n",
        "    recommendations = user_ratings.drop(watched).sort_values(ascending=False).head(N)\n",
        "\n",
        "    return recommendations.index.tolist()\n",
        "\n",
        "# Example: top 10 movies for user 1\n",
        "top_movies = recommend_movies(1, N=10)\n",
        "print(\"Top-10 recommended movie IDs for user 1:\", top_movies)\n"
      ],
      "metadata": {
        "colab": {
          "base_uri": "https://localhost:8080/"
        },
        "id": "ffwyzUxfdo97",
        "outputId": "fc255efb-075b-4589-85ac-2d45af0a738c"
      },
      "execution_count": 32,
      "outputs": [
        {
          "output_type": "stream",
          "name": "stdout",
          "text": [
            "Top-10 recommended movie IDs for user 1: [589, 1198, 1200, 32, 1214, 1580, 2115, 1036, 541, 1259]\n"
          ]
        }
      ]
    },
    {
      "cell_type": "markdown",
      "source": [
        "Returns Top-N movie IDs the user hasn’t rated,and core function required for the assignment."
      ],
      "metadata": {
        "id": "kWmdVbRlklJB"
      }
    },
    {
      "cell_type": "code",
      "source": [
        "# Map movie IDs to titles for readability\n",
        "def movie_titles(movie_ids):\n",
        "    return movies[movies[\"movieId\"].isin(movie_ids)][[\"movieId\", \"title\"]]\n",
        "\n",
        "# Example: show recommended movie titles\n",
        "movie_titles(top_movies)\n",
        "\n"
      ],
      "metadata": {
        "colab": {
          "base_uri": "https://localhost:8080/",
          "height": 363
        },
        "id": "nwN5VdKpeJNc",
        "outputId": "2ed90213-6176-425e-9a3b-cb5928c2d18c"
      },
      "execution_count": 33,
      "outputs": [
        {
          "output_type": "execute_result",
          "data": {
            "text/plain": [
              "      movieId                                              title\n",
              "31         32          Twelve Monkeys (a.k.a. 12 Monkeys) (1995)\n",
              "474       541                                Blade Runner (1982)\n",
              "507       589                  Terminator 2: Judgment Day (1991)\n",
              "793      1036                                    Die Hard (1988)\n",
              "900      1198  Raiders of the Lost Ark (Indiana Jones and the...\n",
              "902      1200                                      Aliens (1986)\n",
              "915      1214                                       Alien (1979)\n",
              "958      1259                                 Stand by Me (1986)\n",
              "1183     1580                   Men in Black (a.k.a. MIB) (1997)\n",
              "1576     2115        Indiana Jones and the Temple of Doom (1984)"
            ],
            "text/html": [
              "\n",
              "  <div id=\"df-0a792212-6d08-49c5-9cc6-b688a90183a1\" class=\"colab-df-container\">\n",
              "    <div>\n",
              "<style scoped>\n",
              "    .dataframe tbody tr th:only-of-type {\n",
              "        vertical-align: middle;\n",
              "    }\n",
              "\n",
              "    .dataframe tbody tr th {\n",
              "        vertical-align: top;\n",
              "    }\n",
              "\n",
              "    .dataframe thead th {\n",
              "        text-align: right;\n",
              "    }\n",
              "</style>\n",
              "<table border=\"1\" class=\"dataframe\">\n",
              "  <thead>\n",
              "    <tr style=\"text-align: right;\">\n",
              "      <th></th>\n",
              "      <th>movieId</th>\n",
              "      <th>title</th>\n",
              "    </tr>\n",
              "  </thead>\n",
              "  <tbody>\n",
              "    <tr>\n",
              "      <th>31</th>\n",
              "      <td>32</td>\n",
              "      <td>Twelve Monkeys (a.k.a. 12 Monkeys) (1995)</td>\n",
              "    </tr>\n",
              "    <tr>\n",
              "      <th>474</th>\n",
              "      <td>541</td>\n",
              "      <td>Blade Runner (1982)</td>\n",
              "    </tr>\n",
              "    <tr>\n",
              "      <th>507</th>\n",
              "      <td>589</td>\n",
              "      <td>Terminator 2: Judgment Day (1991)</td>\n",
              "    </tr>\n",
              "    <tr>\n",
              "      <th>793</th>\n",
              "      <td>1036</td>\n",
              "      <td>Die Hard (1988)</td>\n",
              "    </tr>\n",
              "    <tr>\n",
              "      <th>900</th>\n",
              "      <td>1198</td>\n",
              "      <td>Raiders of the Lost Ark (Indiana Jones and the...</td>\n",
              "    </tr>\n",
              "    <tr>\n",
              "      <th>902</th>\n",
              "      <td>1200</td>\n",
              "      <td>Aliens (1986)</td>\n",
              "    </tr>\n",
              "    <tr>\n",
              "      <th>915</th>\n",
              "      <td>1214</td>\n",
              "      <td>Alien (1979)</td>\n",
              "    </tr>\n",
              "    <tr>\n",
              "      <th>958</th>\n",
              "      <td>1259</td>\n",
              "      <td>Stand by Me (1986)</td>\n",
              "    </tr>\n",
              "    <tr>\n",
              "      <th>1183</th>\n",
              "      <td>1580</td>\n",
              "      <td>Men in Black (a.k.a. MIB) (1997)</td>\n",
              "    </tr>\n",
              "    <tr>\n",
              "      <th>1576</th>\n",
              "      <td>2115</td>\n",
              "      <td>Indiana Jones and the Temple of Doom (1984)</td>\n",
              "    </tr>\n",
              "  </tbody>\n",
              "</table>\n",
              "</div>\n",
              "    <div class=\"colab-df-buttons\">\n",
              "\n",
              "  <div class=\"colab-df-container\">\n",
              "    <button class=\"colab-df-convert\" onclick=\"convertToInteractive('df-0a792212-6d08-49c5-9cc6-b688a90183a1')\"\n",
              "            title=\"Convert this dataframe to an interactive table.\"\n",
              "            style=\"display:none;\">\n",
              "\n",
              "  <svg xmlns=\"http://www.w3.org/2000/svg\" height=\"24px\" viewBox=\"0 -960 960 960\">\n",
              "    <path d=\"M120-120v-720h720v720H120Zm60-500h600v-160H180v160Zm220 220h160v-160H400v160Zm0 220h160v-160H400v160ZM180-400h160v-160H180v160Zm440 0h160v-160H620v160ZM180-180h160v-160H180v160Zm440 0h160v-160H620v160Z\"/>\n",
              "  </svg>\n",
              "    </button>\n",
              "\n",
              "  <style>\n",
              "    .colab-df-container {\n",
              "      display:flex;\n",
              "      gap: 12px;\n",
              "    }\n",
              "\n",
              "    .colab-df-convert {\n",
              "      background-color: #E8F0FE;\n",
              "      border: none;\n",
              "      border-radius: 50%;\n",
              "      cursor: pointer;\n",
              "      display: none;\n",
              "      fill: #1967D2;\n",
              "      height: 32px;\n",
              "      padding: 0 0 0 0;\n",
              "      width: 32px;\n",
              "    }\n",
              "\n",
              "    .colab-df-convert:hover {\n",
              "      background-color: #E2EBFA;\n",
              "      box-shadow: 0px 1px 2px rgba(60, 64, 67, 0.3), 0px 1px 3px 1px rgba(60, 64, 67, 0.15);\n",
              "      fill: #174EA6;\n",
              "    }\n",
              "\n",
              "    .colab-df-buttons div {\n",
              "      margin-bottom: 4px;\n",
              "    }\n",
              "\n",
              "    [theme=dark] .colab-df-convert {\n",
              "      background-color: #3B4455;\n",
              "      fill: #D2E3FC;\n",
              "    }\n",
              "\n",
              "    [theme=dark] .colab-df-convert:hover {\n",
              "      background-color: #434B5C;\n",
              "      box-shadow: 0px 1px 3px 1px rgba(0, 0, 0, 0.15);\n",
              "      filter: drop-shadow(0px 1px 2px rgba(0, 0, 0, 0.3));\n",
              "      fill: #FFFFFF;\n",
              "    }\n",
              "  </style>\n",
              "\n",
              "    <script>\n",
              "      const buttonEl =\n",
              "        document.querySelector('#df-0a792212-6d08-49c5-9cc6-b688a90183a1 button.colab-df-convert');\n",
              "      buttonEl.style.display =\n",
              "        google.colab.kernel.accessAllowed ? 'block' : 'none';\n",
              "\n",
              "      async function convertToInteractive(key) {\n",
              "        const element = document.querySelector('#df-0a792212-6d08-49c5-9cc6-b688a90183a1');\n",
              "        const dataTable =\n",
              "          await google.colab.kernel.invokeFunction('convertToInteractive',\n",
              "                                                    [key], {});\n",
              "        if (!dataTable) return;\n",
              "\n",
              "        const docLinkHtml = 'Like what you see? Visit the ' +\n",
              "          '<a target=\"_blank\" href=https://colab.research.google.com/notebooks/data_table.ipynb>data table notebook</a>'\n",
              "          + ' to learn more about interactive tables.';\n",
              "        element.innerHTML = '';\n",
              "        dataTable['output_type'] = 'display_data';\n",
              "        await google.colab.output.renderOutput(dataTable, element);\n",
              "        const docLink = document.createElement('div');\n",
              "        docLink.innerHTML = docLinkHtml;\n",
              "        element.appendChild(docLink);\n",
              "      }\n",
              "    </script>\n",
              "  </div>\n",
              "\n",
              "\n",
              "    <div id=\"df-97798b5c-cc1c-463b-ae53-9a3bb050d4f3\">\n",
              "      <button class=\"colab-df-quickchart\" onclick=\"quickchart('df-97798b5c-cc1c-463b-ae53-9a3bb050d4f3')\"\n",
              "                title=\"Suggest charts\"\n",
              "                style=\"display:none;\">\n",
              "\n",
              "<svg xmlns=\"http://www.w3.org/2000/svg\" height=\"24px\"viewBox=\"0 0 24 24\"\n",
              "     width=\"24px\">\n",
              "    <g>\n",
              "        <path d=\"M19 3H5c-1.1 0-2 .9-2 2v14c0 1.1.9 2 2 2h14c1.1 0 2-.9 2-2V5c0-1.1-.9-2-2-2zM9 17H7v-7h2v7zm4 0h-2V7h2v10zm4 0h-2v-4h2v4z\"/>\n",
              "    </g>\n",
              "</svg>\n",
              "      </button>\n",
              "\n",
              "<style>\n",
              "  .colab-df-quickchart {\n",
              "      --bg-color: #E8F0FE;\n",
              "      --fill-color: #1967D2;\n",
              "      --hover-bg-color: #E2EBFA;\n",
              "      --hover-fill-color: #174EA6;\n",
              "      --disabled-fill-color: #AAA;\n",
              "      --disabled-bg-color: #DDD;\n",
              "  }\n",
              "\n",
              "  [theme=dark] .colab-df-quickchart {\n",
              "      --bg-color: #3B4455;\n",
              "      --fill-color: #D2E3FC;\n",
              "      --hover-bg-color: #434B5C;\n",
              "      --hover-fill-color: #FFFFFF;\n",
              "      --disabled-bg-color: #3B4455;\n",
              "      --disabled-fill-color: #666;\n",
              "  }\n",
              "\n",
              "  .colab-df-quickchart {\n",
              "    background-color: var(--bg-color);\n",
              "    border: none;\n",
              "    border-radius: 50%;\n",
              "    cursor: pointer;\n",
              "    display: none;\n",
              "    fill: var(--fill-color);\n",
              "    height: 32px;\n",
              "    padding: 0;\n",
              "    width: 32px;\n",
              "  }\n",
              "\n",
              "  .colab-df-quickchart:hover {\n",
              "    background-color: var(--hover-bg-color);\n",
              "    box-shadow: 0 1px 2px rgba(60, 64, 67, 0.3), 0 1px 3px 1px rgba(60, 64, 67, 0.15);\n",
              "    fill: var(--button-hover-fill-color);\n",
              "  }\n",
              "\n",
              "  .colab-df-quickchart-complete:disabled,\n",
              "  .colab-df-quickchart-complete:disabled:hover {\n",
              "    background-color: var(--disabled-bg-color);\n",
              "    fill: var(--disabled-fill-color);\n",
              "    box-shadow: none;\n",
              "  }\n",
              "\n",
              "  .colab-df-spinner {\n",
              "    border: 2px solid var(--fill-color);\n",
              "    border-color: transparent;\n",
              "    border-bottom-color: var(--fill-color);\n",
              "    animation:\n",
              "      spin 1s steps(1) infinite;\n",
              "  }\n",
              "\n",
              "  @keyframes spin {\n",
              "    0% {\n",
              "      border-color: transparent;\n",
              "      border-bottom-color: var(--fill-color);\n",
              "      border-left-color: var(--fill-color);\n",
              "    }\n",
              "    20% {\n",
              "      border-color: transparent;\n",
              "      border-left-color: var(--fill-color);\n",
              "      border-top-color: var(--fill-color);\n",
              "    }\n",
              "    30% {\n",
              "      border-color: transparent;\n",
              "      border-left-color: var(--fill-color);\n",
              "      border-top-color: var(--fill-color);\n",
              "      border-right-color: var(--fill-color);\n",
              "    }\n",
              "    40% {\n",
              "      border-color: transparent;\n",
              "      border-right-color: var(--fill-color);\n",
              "      border-top-color: var(--fill-color);\n",
              "    }\n",
              "    60% {\n",
              "      border-color: transparent;\n",
              "      border-right-color: var(--fill-color);\n",
              "    }\n",
              "    80% {\n",
              "      border-color: transparent;\n",
              "      border-right-color: var(--fill-color);\n",
              "      border-bottom-color: var(--fill-color);\n",
              "    }\n",
              "    90% {\n",
              "      border-color: transparent;\n",
              "      border-bottom-color: var(--fill-color);\n",
              "    }\n",
              "  }\n",
              "</style>\n",
              "\n",
              "      <script>\n",
              "        async function quickchart(key) {\n",
              "          const quickchartButtonEl =\n",
              "            document.querySelector('#' + key + ' button');\n",
              "          quickchartButtonEl.disabled = true;  // To prevent multiple clicks.\n",
              "          quickchartButtonEl.classList.add('colab-df-spinner');\n",
              "          try {\n",
              "            const charts = await google.colab.kernel.invokeFunction(\n",
              "                'suggestCharts', [key], {});\n",
              "          } catch (error) {\n",
              "            console.error('Error during call to suggestCharts:', error);\n",
              "          }\n",
              "          quickchartButtonEl.classList.remove('colab-df-spinner');\n",
              "          quickchartButtonEl.classList.add('colab-df-quickchart-complete');\n",
              "        }\n",
              "        (() => {\n",
              "          let quickchartButtonEl =\n",
              "            document.querySelector('#df-97798b5c-cc1c-463b-ae53-9a3bb050d4f3 button');\n",
              "          quickchartButtonEl.style.display =\n",
              "            google.colab.kernel.accessAllowed ? 'block' : 'none';\n",
              "        })();\n",
              "      </script>\n",
              "    </div>\n",
              "\n",
              "    </div>\n",
              "  </div>\n"
            ],
            "application/vnd.google.colaboratory.intrinsic+json": {
              "type": "dataframe",
              "summary": "{\n  \"name\": \"movie_titles(top_movies)\",\n  \"rows\": 10,\n  \"fields\": [\n    {\n      \"column\": \"movieId\",\n      \"properties\": {\n        \"dtype\": \"number\",\n        \"std\": 580,\n        \"min\": 32,\n        \"max\": 2115,\n        \"num_unique_values\": 10,\n        \"samples\": [\n          1580,\n          541,\n          1200\n        ],\n        \"semantic_type\": \"\",\n        \"description\": \"\"\n      }\n    },\n    {\n      \"column\": \"title\",\n      \"properties\": {\n        \"dtype\": \"string\",\n        \"num_unique_values\": 10,\n        \"samples\": [\n          \"Men in Black (a.k.a. MIB) (1997)\",\n          \"Blade Runner (1982)\",\n          \"Aliens (1986)\"\n        ],\n        \"semantic_type\": \"\",\n        \"description\": \"\"\n      }\n    }\n  ]\n}"
            }
          },
          "metadata": {},
          "execution_count": 33
        }
      ]
    },
    {
      "cell_type": "markdown",
      "source": [
        "Converts movie IDs into human-readable titles"
      ],
      "metadata": {
        "id": "O0AFShFak8OC"
      }
    },
    {
      "cell_type": "code",
      "source": [
        "def precision_at_k(actual, predicted, k=10):\n",
        "    return len(set(predicted[:k]) & set(actual)) / k\n",
        "\n",
        "def recall_at_k(actual, predicted, k=10):\n",
        "    return len(set(predicted[:k]) & set(actual)) / len(actual) if len(actual) > 0 else 0\n",
        "\n",
        "def ndcg_at_k(actual, predicted, k=10):\n",
        "    dcg = 0.0\n",
        "    for i, p in enumerate(predicted[:k]):\n",
        "        if p in actual:\n",
        "            dcg += 1 / np.log2(i + 2)\n",
        "    idcg = sum(1 / np.log2(i + 2) for i in range(min(len(actual), k)))\n",
        "    return dcg / idcg if idcg > 0 else 0\n"
      ],
      "metadata": {
        "id": "AT-1yQ54fTv0"
      },
      "execution_count": 35,
      "outputs": []
    },
    {
      "cell_type": "markdown",
      "source": [
        "Implements Precision@K, Recall@K, NDCG@K metrics."
      ],
      "metadata": {
        "id": "5yDwavS-lKWC"
      }
    },
    {
      "cell_type": "code",
      "source": [
        "precisions = []\n",
        "recalls = []\n",
        "ndcgs = []\n",
        "\n",
        "users = test['userId'].unique()\n",
        "for u in users:\n",
        "    true_movies = test[test[\"userId\"]==u][\"movieId\"].values\n",
        "    pred_movies = recommend_movies(u, N=10)\n",
        "    precisions.append(precision_at_k(true_movies, pred_movies, k=10))\n",
        "    recalls.append(recall_at_k(true_movies, pred_movies, k=10))\n",
        "    ndcgs.append(ndcg_at_k(true_movies, pred_movies, k=10))\n",
        "\n",
        "print(\"Average Precision@10:\", np.mean(precisions))\n",
        "print(\"Average Recall@10:\", np.mean(recalls))\n",
        "print(\"Average NDCG@10:\", np.mean(ndcgs))\n"
      ],
      "metadata": {
        "id": "UZVdz6WrlOkq",
        "outputId": "4eab5baa-8b60-4a90-ff3e-3b198a92324c",
        "colab": {
          "base_uri": "https://localhost:8080/"
        }
      },
      "execution_count": 36,
      "outputs": [
        {
          "output_type": "stream",
          "name": "stdout",
          "text": [
            "Average Precision@10: 0.27524590163934426\n",
            "Average Recall@10: 0.144280751947409\n",
            "Average NDCG@10: 0.31575447784345545\n"
          ]
        }
      ]
    },
    {
      "cell_type": "markdown",
      "source": [
        "Loops over all test users,and computes average metrics to evaluate model performance"
      ],
      "metadata": {
        "id": "e5ML4L9klVw9"
      }
    }
  ]
}