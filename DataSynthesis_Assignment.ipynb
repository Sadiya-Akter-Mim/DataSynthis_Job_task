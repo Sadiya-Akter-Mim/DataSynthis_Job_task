{
  "nbformat": 4,
  "nbformat_minor": 0,
  "metadata": {
    "colab": {
      "provenance": [],
      "authorship_tag": "ABX9TyMPKtEhBNbbRCq0WC5ynI35",
      "include_colab_link": true
    },
    "kernelspec": {
      "name": "python3",
      "display_name": "Python 3"
    },
    "language_info": {
      "name": "python"
    }
  },
  "cells": [
    {
      "cell_type": "markdown",
      "metadata": {
        "id": "view-in-github",
        "colab_type": "text"
      },
      "source": [
        "<a href=\"https://colab.research.google.com/github/Sadiya-Akter-Mim/MovieLens-Recommender-Assignment/blob/main/DataSynthesis_Assignment.ipynb\" target=\"_parent\"><img src=\"https://colab.research.google.com/assets/colab-badge.svg\" alt=\"Open In Colab\"/></a>"
      ]
    },
    {
      "cell_type": "code",
      "execution_count": 1,
      "metadata": {
        "id": "m4c35KziQClx"
      },
      "outputs": [],
      "source": [
        "import pandas as pd\n",
        "import numpy as np\n"
      ]
    },
    {
      "cell_type": "code",
      "source": [
        "#github raw link\n",
        "\n",
        "movies_url  = \"https://raw.githubusercontent.com/Sadiya-Akter-Mim/MovieLens-Recommender-Assignment/main/movies.csv\"\n",
        "ratings_url = \"https://raw.githubusercontent.com/Sadiya-Akter-Mim/MovieLens-Recommender-Assignment/main/ratings.csv\""
      ],
      "metadata": {
        "id": "MJZxY8AATLWO"
      },
      "execution_count": 5,
      "outputs": []
    },
    {
      "cell_type": "code",
      "source": [
        "#load dataset\n",
        "movies = pd.read_csv(movies_url)\n",
        "ratings = pd.read_csv(ratings_url)"
      ],
      "metadata": {
        "id": "8ADKQMRHYX9d"
      },
      "execution_count": 6,
      "outputs": []
    },
    {
      "cell_type": "code",
      "source": [
        "#show 5 rows\n",
        "print(\"Movies dataset:\")\n",
        "print(movies.head())\n",
        "print(\"\\nRatings dataset:\")\n",
        "print(ratings.head())"
      ],
      "metadata": {
        "colab": {
          "base_uri": "https://localhost:8080/"
        },
        "id": "FOrQvvOQYo5I",
        "outputId": "58a58f48-4adc-4038-b97d-9106526e4cf0"
      },
      "execution_count": 7,
      "outputs": [
        {
          "output_type": "stream",
          "name": "stdout",
          "text": [
            "Movies dataset:\n",
            "   movieId                               title  \\\n",
            "0        1                    Toy Story (1995)   \n",
            "1        2                      Jumanji (1995)   \n",
            "2        3             Grumpier Old Men (1995)   \n",
            "3        4            Waiting to Exhale (1995)   \n",
            "4        5  Father of the Bride Part II (1995)   \n",
            "\n",
            "                                        genres  \n",
            "0  Adventure|Animation|Children|Comedy|Fantasy  \n",
            "1                   Adventure|Children|Fantasy  \n",
            "2                               Comedy|Romance  \n",
            "3                         Comedy|Drama|Romance  \n",
            "4                                       Comedy  \n",
            "\n",
            "Ratings dataset:\n",
            "   userId  movieId  rating  timestamp\n",
            "0       1        1     4.0  964982703\n",
            "1       1        3     4.0  964981247\n",
            "2       1        6     4.0  964982224\n",
            "3       1       47     5.0  964983815\n",
            "4       1       50     5.0  964982931\n"
          ]
        }
      ]
    },
    {
      "cell_type": "code",
      "source": [
        "# Pivot table: users as rows, movies as columns\n",
        "rating_matrix = ratings.pivot_table(index=\"userId\", columns=\"movieId\", values=\"rating\")\n",
        "\n",
        "# Show first rows\n",
        "print(\"User-Movie rating matrix:\")\n",
        "print(rating_matrix.head())\n"
      ],
      "metadata": {
        "colab": {
          "base_uri": "https://localhost:8080/"
        },
        "id": "tZFViNfHZHmX",
        "outputId": "ba1737ff-0739-4a80-9730-b8e0cd079354"
      },
      "execution_count": 8,
      "outputs": [
        {
          "output_type": "stream",
          "name": "stdout",
          "text": [
            "User-Movie rating matrix:\n",
            "movieId  1       2       3       4       5       6       7       8       \\\n",
            "userId                                                                    \n",
            "1           4.0     NaN     4.0     NaN     NaN     4.0     NaN     NaN   \n",
            "2           NaN     NaN     NaN     NaN     NaN     NaN     NaN     NaN   \n",
            "3           NaN     NaN     NaN     NaN     NaN     NaN     NaN     NaN   \n",
            "4           NaN     NaN     NaN     NaN     NaN     NaN     NaN     NaN   \n",
            "5           4.0     NaN     NaN     NaN     NaN     NaN     NaN     NaN   \n",
            "\n",
            "movieId  9       10      ...  193565  193567  193571  193573  193579  193581  \\\n",
            "userId                   ...                                                   \n",
            "1           NaN     NaN  ...     NaN     NaN     NaN     NaN     NaN     NaN   \n",
            "2           NaN     NaN  ...     NaN     NaN     NaN     NaN     NaN     NaN   \n",
            "3           NaN     NaN  ...     NaN     NaN     NaN     NaN     NaN     NaN   \n",
            "4           NaN     NaN  ...     NaN     NaN     NaN     NaN     NaN     NaN   \n",
            "5           NaN     NaN  ...     NaN     NaN     NaN     NaN     NaN     NaN   \n",
            "\n",
            "movieId  193583  193585  193587  193609  \n",
            "userId                                   \n",
            "1           NaN     NaN     NaN     NaN  \n",
            "2           NaN     NaN     NaN     NaN  \n",
            "3           NaN     NaN     NaN     NaN  \n",
            "4           NaN     NaN     NaN     NaN  \n",
            "5           NaN     NaN     NaN     NaN  \n",
            "\n",
            "[5 rows x 9724 columns]\n"
          ]
        }
      ]
    }
  ]
}